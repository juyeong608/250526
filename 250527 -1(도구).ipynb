{
 "cells": [
  {
   "cell_type": "markdown",
   "id": "3d5dac17",
   "metadata": {},
   "source": [
    "LangChain Tool\n",
    "```\n",
    "Tool : llm에이전트가 수행할 수 있는 외부기능이나 api를 말함 (날씨정보나 웹검색, 계산기)\n",
    "이유 : gpt는 최신정보에 접근할 수 없다\n",
    "구조 : 이름 설명 실행함수로직\n",
    "tool 호출 방식 : GPT-4 모델들은 OpenAI의 함수호출 기능을 통해 tool을 직접 호출할 수 있다\n",
    "```\n",
    "외부 API 호출 Tool 구현 (날씨API, 뉴스API)\n"
   ]
  },
  {
   "cell_type": "code",
   "execution_count": 2,
   "id": "6758ca5a",
   "metadata": {},
   "outputs": [
    {
     "name": "stdout",
     "output_type": "stream",
     "text": [
      "Requirement already satisfied: langchain-core in c:\\users\\playdata\\miniconda3\\envs\\llm.venv\\lib\\site-packages (0.3.61)\n",
      "Requirement already satisfied: langchain-openai in c:\\users\\playdata\\miniconda3\\envs\\llm.venv\\lib\\site-packages (0.3.18)\n",
      "Requirement already satisfied: openai in c:\\users\\playdata\\miniconda3\\envs\\llm.venv\\lib\\site-packages (1.77.0)\n",
      "Requirement already satisfied: python-dotenv in c:\\users\\playdata\\miniconda3\\envs\\llm.venv\\lib\\site-packages (1.1.0)\n",
      "Requirement already satisfied: requests in c:\\users\\playdata\\miniconda3\\envs\\llm.venv\\lib\\site-packages (2.32.3)\n",
      "Requirement already satisfied: langsmith<0.4,>=0.1.126 in c:\\users\\playdata\\miniconda3\\envs\\llm.venv\\lib\\site-packages (from langchain-core) (0.3.42)\n",
      "Requirement already satisfied: tenacity!=8.4.0,<10.0.0,>=8.1.0 in c:\\users\\playdata\\miniconda3\\envs\\llm.venv\\lib\\site-packages (from langchain-core) (9.1.2)\n",
      "Requirement already satisfied: jsonpatch<2.0,>=1.33 in c:\\users\\playdata\\miniconda3\\envs\\llm.venv\\lib\\site-packages (from langchain-core) (1.33)\n",
      "Requirement already satisfied: PyYAML>=5.3 in c:\\users\\playdata\\miniconda3\\envs\\llm.venv\\lib\\site-packages (from langchain-core) (6.0.2)\n",
      "Requirement already satisfied: packaging<25,>=23.2 in c:\\users\\playdata\\miniconda3\\envs\\llm.venv\\lib\\site-packages (from langchain-core) (24.2)\n",
      "Requirement already satisfied: typing-extensions>=4.7 in c:\\users\\playdata\\miniconda3\\envs\\llm.venv\\lib\\site-packages (from langchain-core) (4.12.2)\n",
      "Requirement already satisfied: pydantic>=2.7.4 in c:\\users\\playdata\\miniconda3\\envs\\llm.venv\\lib\\site-packages (from langchain-core) (2.10.3)\n",
      "Requirement already satisfied: jsonpointer>=1.9 in c:\\users\\playdata\\miniconda3\\envs\\llm.venv\\lib\\site-packages (from jsonpatch<2.0,>=1.33->langchain-core) (3.0.0)\n",
      "Requirement already satisfied: httpx<1,>=0.23.0 in c:\\users\\playdata\\miniconda3\\envs\\llm.venv\\lib\\site-packages (from langsmith<0.4,>=0.1.126->langchain-core) (0.28.1)\n",
      "Requirement already satisfied: orjson<4.0.0,>=3.9.14 in c:\\users\\playdata\\miniconda3\\envs\\llm.venv\\lib\\site-packages (from langsmith<0.4,>=0.1.126->langchain-core) (3.10.18)\n",
      "Requirement already satisfied: requests-toolbelt<2.0.0,>=1.0.0 in c:\\users\\playdata\\miniconda3\\envs\\llm.venv\\lib\\site-packages (from langsmith<0.4,>=0.1.126->langchain-core) (1.0.0)\n",
      "Requirement already satisfied: zstandard<0.24.0,>=0.23.0 in c:\\users\\playdata\\miniconda3\\envs\\llm.venv\\lib\\site-packages (from langsmith<0.4,>=0.1.126->langchain-core) (0.23.0)\n",
      "Requirement already satisfied: charset-normalizer<4,>=2 in c:\\users\\playdata\\miniconda3\\envs\\llm.venv\\lib\\site-packages (from requests) (3.4.2)\n",
      "Requirement already satisfied: idna<4,>=2.5 in c:\\users\\playdata\\miniconda3\\envs\\llm.venv\\lib\\site-packages (from requests) (3.7)\n",
      "Requirement already satisfied: urllib3<3,>=1.21.1 in c:\\users\\playdata\\miniconda3\\envs\\llm.venv\\lib\\site-packages (from requests) (2.4.0)\n",
      "Requirement already satisfied: certifi>=2017.4.17 in c:\\users\\playdata\\miniconda3\\envs\\llm.venv\\lib\\site-packages (from requests) (2025.4.26)\n",
      "Requirement already satisfied: anyio in c:\\users\\playdata\\miniconda3\\envs\\llm.venv\\lib\\site-packages (from httpx<1,>=0.23.0->langsmith<0.4,>=0.1.126->langchain-core) (4.7.0)\n",
      "Requirement already satisfied: httpcore==1.* in c:\\users\\playdata\\miniconda3\\envs\\llm.venv\\lib\\site-packages (from httpx<1,>=0.23.0->langsmith<0.4,>=0.1.126->langchain-core) (1.0.2)\n",
      "Requirement already satisfied: h11<0.15,>=0.13 in c:\\users\\playdata\\miniconda3\\envs\\llm.venv\\lib\\site-packages (from httpcore==1.*->httpx<1,>=0.23.0->langsmith<0.4,>=0.1.126->langchain-core) (0.14.0)\n",
      "Requirement already satisfied: annotated-types>=0.6.0 in c:\\users\\playdata\\miniconda3\\envs\\llm.venv\\lib\\site-packages (from pydantic>=2.7.4->langchain-core) (0.6.0)\n",
      "Requirement already satisfied: pydantic-core==2.27.1 in c:\\users\\playdata\\miniconda3\\envs\\llm.venv\\lib\\site-packages (from pydantic>=2.7.4->langchain-core) (2.27.1)\n",
      "Requirement already satisfied: tiktoken<1,>=0.7 in c:\\users\\playdata\\miniconda3\\envs\\llm.venv\\lib\\site-packages (from langchain-openai) (0.9.0)\n",
      "Requirement already satisfied: distro<2,>=1.7.0 in c:\\users\\playdata\\miniconda3\\envs\\llm.venv\\lib\\site-packages (from openai) (1.9.0)\n",
      "Requirement already satisfied: jiter<1,>=0.4.0 in c:\\users\\playdata\\miniconda3\\envs\\llm.venv\\lib\\site-packages (from openai) (0.6.1)\n",
      "Requirement already satisfied: sniffio in c:\\users\\playdata\\miniconda3\\envs\\llm.venv\\lib\\site-packages (from openai) (1.3.0)\n",
      "Requirement already satisfied: tqdm>4 in c:\\users\\playdata\\miniconda3\\envs\\llm.venv\\lib\\site-packages (from openai) (4.67.1)\n",
      "Requirement already satisfied: regex>=2022.1.18 in c:\\users\\playdata\\miniconda3\\envs\\llm.venv\\lib\\site-packages (from tiktoken<1,>=0.7->langchain-openai) (2024.11.6)\n",
      "Requirement already satisfied: colorama in c:\\users\\playdata\\miniconda3\\envs\\llm.venv\\lib\\site-packages (from tqdm>4->openai) (0.4.6)\n",
      "Note: you may need to restart the kernel to use updated packages.\n"
     ]
    }
   ],
   "source": [
    "%pip install langchain-core langchain-openai openai python-dotenv requests"
   ]
  },
  {
   "cell_type": "code",
   "execution_count": null,
   "id": "bd7f3683",
   "metadata": {},
   "outputs": [],
   "source": [
    "# OpenWeather api 가져오기\n",
    "# https://home.openweathermap.org 회원가입 하고\n",
    "# https://home.openweathermap.org/api_keys 들어가서 api key 가져오기\n",
    "\n",
    "\n",
    "# Newsapi 가져오기\n",
    "# https://newsapi.org/\n",
    "\n",
    "\n",
    "# .env에다가 각각 OPEN_WEATHER_MAP, NEWSAPI_API_KEY로 키 저장하기"
   ]
  },
  {
   "cell_type": "code",
   "execution_count": null,
   "id": "4d3b094f",
   "metadata": {},
   "outputs": [
    {
     "name": "stdout",
     "output_type": "stream",
     "text": [
      "6acec\n"
     ]
    },
    {
     "ename": "KeyError",
     "evalue": "'WEATHER_API_KEY'",
     "output_type": "error",
     "traceback": [
      "\u001b[31m---------------------------------------------------------------------------\u001b[39m",
      "\u001b[31mKeyError\u001b[39m                                  Traceback (most recent call last)",
      "\u001b[36mCell\u001b[39m\u001b[36m \u001b[39m\u001b[32mIn[7]\u001b[39m\u001b[32m, line 7\u001b[39m\n\u001b[32m      4\u001b[39m load_dotenv()\n\u001b[32m      6\u001b[39m \u001b[38;5;28mprint\u001b[39m(os.environ[\u001b[33m'\u001b[39m\u001b[33mOPEN_WEATHER_MAP\u001b[39m\u001b[33m'\u001b[39m][:\u001b[32m5\u001b[39m])\n\u001b[32m----> \u001b[39m\u001b[32m7\u001b[39m \u001b[38;5;28mprint\u001b[39m(\u001b[43mos\u001b[49m\u001b[43m.\u001b[49m\u001b[43menviron\u001b[49m\u001b[43m[\u001b[49m\u001b[33;43m'\u001b[39;49m\u001b[33;43mWEATHER_API_KEY\u001b[39;49m\u001b[33;43m'\u001b[39;49m\u001b[43m]\u001b[49m[:\u001b[32m5\u001b[39m])\n",
      "\u001b[36mFile \u001b[39m\u001b[32m<frozen os>:716\u001b[39m, in \u001b[36m__getitem__\u001b[39m\u001b[34m(self, key)\u001b[39m\n",
      "\u001b[31mKeyError\u001b[39m: 'WEATHER_API_KEY'"
     ]
    }
   ],
   "source": [
    "# .env 로드\n",
    "from dotenv import load_dotenv\n",
    "import os\n",
    "load_dotenv()\n",
    "\n",
    "print(os.environ[\"OPEN_WEATHER_MAP\"][:5])\n",
    "print(os.environ[\"NEWSAPI_API_KEY\"][:5])"
   ]
  },
  {
   "cell_type": "code",
   "execution_count": null,
   "id": "73330ebd",
   "metadata": {},
   "outputs": [],
   "source": [
    "# 날씨정보 조회 함수\n",
    "from pydantic import BaseModel, Field\n",
    "\n",
    "# 입력 스키마\n",
    "class WeatherInput(BaseModel):\n",
    "    city : str = Field(description=\"날씨를 조회할 도시 이름(영문)\")\n",
    "\n",
    "def get_weather(city: str) -> str:\n",
    "    import requests\n",
    "    api_key = os.getenv(\"OPEN_WEATHER_MAP\")\n",
    "    url = \"http://api.openweathermap.org/data/2.5/weather\"\n",
    "    params = {\n",
    "        \"q\":city,\n",
    "        \"appid\": api_key,\n",
    "        \"units\": \"metric\",  # 섭씨온도\n",
    "        \"lang\": \"kr\"  # 한국어\n",
    "    }\n",
    "    response = requests.get(url, params=params)\n",
    "    data =  response.json()\n",
    "    if data.get('cod') != 200:\n",
    "        return \"날씨 정보를 가져올 수 없습니다.\"\n",
    "    temp = data['main']['temp']\n",
    "    desc = data['weather'][0]['description']\n",
    "    return f\"{city}의 현재 기온은 {temp}도이며, 날씨는 {desc}입니다.\""
   ]
  },
  {
   "cell_type": "code",
   "execution_count": null,
   "id": "2ff071a3",
   "metadata": {},
   "outputs": [
    {
     "ename": "NameError",
     "evalue": "name 'BaseModel' is not defined",
     "output_type": "error",
     "traceback": [
      "\u001b[31m---------------------------------------------------------------------------\u001b[39m",
      "\u001b[31mNameError\u001b[39m                                 Traceback (most recent call last)",
      "\u001b[36mCell\u001b[39m\u001b[36m \u001b[39m\u001b[32mIn[8]\u001b[39m\u001b[32m, line 2\u001b[39m\n\u001b[32m      1\u001b[39m \u001b[38;5;66;03m#pydantic 모델을 사용하여 입력값 검증\u001b[39;00m\n\u001b[32m----> \u001b[39m\u001b[32m2\u001b[39m \u001b[38;5;28;01mclass\u001b[39;00m\u001b[38;5;250m \u001b[39m\u001b[34;01mWeatherInput\u001b[39;00m(\u001b[43mBaseModel\u001b[49m):\n\u001b[32m      3\u001b[39m     city: \u001b[38;5;28mstr\u001b[39m = Field(description = \u001b[33m\"\u001b[39m\u001b[33m날씨를 조회할 도시 이름(영문)\u001b[39m\u001b[33m\"\u001b[39m)\n\u001b[32m      5\u001b[39m result = WeatherInput(city=\u001b[33m'\u001b[39m\u001b[33mSeoul\u001b[39m\u001b[33m'\u001b[39m)\n",
      "\u001b[31mNameError\u001b[39m: name 'BaseModel' is not defined"
     ]
    }
   ],
   "source": [
    "# pydantic 모델을 사용하여 입력값 검증\n",
    "class WeatherInput(BaseModel):\n",
    "    city : str = Field(description=\"날씨를 조회할 도시 이름(영문)\")\n",
    "\n",
    "class MyClass:\n",
    "    def __init__(self, ab: str):\n",
    "        self.city = ab\n",
    "\n",
    "MyClass(ab=100)  # 사용자가 의도한 문자열이 전달되지 않아도 python은 타입에러를 발생시키지 않음\n",
    "result = WeatherInput( city=100)    # pydantic 모델은 타입에러를 발생시킴\n",
    "result.city"
   ]
  },
  {
   "cell_type": "code",
   "execution_count": null,
   "id": "8a396825",
   "metadata": {},
   "outputs": [
    {
     "ename": "NameError",
     "evalue": "name 'BaseModel' is not defined",
     "output_type": "error",
     "traceback": [
      "\u001b[31m---------------------------------------------------------------------------\u001b[39m",
      "\u001b[31mNameError\u001b[39m                                 Traceback (most recent call last)",
      "\u001b[36mCell\u001b[39m\u001b[36m \u001b[39m\u001b[32mIn[4]\u001b[39m\u001b[32m, line 2\u001b[39m\n\u001b[32m      1\u001b[39m \u001b[38;5;66;03m#pydantic 모델을 사용하여 입력값 검증\u001b[39;00m\n\u001b[32m----> \u001b[39m\u001b[32m2\u001b[39m \u001b[38;5;28;01mclass\u001b[39;00m\u001b[38;5;250m \u001b[39m\u001b[34;01mWeatherInput\u001b[39;00m(\u001b[43mBaseModel\u001b[49m):\n\u001b[32m      3\u001b[39m     city: \u001b[38;5;28mstr\u001b[39m = Field(description = \u001b[33m\"\u001b[39m\u001b[33m날씨를 조회할 도시 이름(영문)\u001b[39m\u001b[33m\"\u001b[39m)\n\u001b[32m      5\u001b[39m result = WeatherInput(city=\u001b[33m'\u001b[39m\u001b[33mSeoul\u001b[39m\u001b[33m'\u001b[39m)\n",
      "\u001b[31mNameError\u001b[39m: name 'BaseModel' is not defined"
     ]
    }
   ],
   "source": [
    "get_weather('seoul')"
   ]
  },
  {
   "cell_type": "code",
   "execution_count": null,
   "id": "83fb20da",
   "metadata": {},
   "outputs": [
    {
     "ename": "NameError",
     "evalue": "name 'BaseModel' is not defined",
     "output_type": "error",
     "traceback": [
      "\u001b[31m---------------------------------------------------------------------------\u001b[39m",
      "\u001b[31mNameError\u001b[39m                                 Traceback (most recent call last)",
      "\u001b[36mCell\u001b[39m\u001b[36m \u001b[39m\u001b[32mIn[5]\u001b[39m\u001b[32m, line 2\u001b[39m\n\u001b[32m      1\u001b[39m \u001b[38;5;66;03m#pydantic 모델을 사용하여 입력값 검증\u001b[39;00m\n\u001b[32m----> \u001b[39m\u001b[32m2\u001b[39m \u001b[38;5;28;01mclass\u001b[39;00m\u001b[38;5;250m \u001b[39m\u001b[34;01mWeatherInput\u001b[39;00m(\u001b[43mBaseModel\u001b[49m):\n\u001b[32m      3\u001b[39m     city: \u001b[38;5;28mstr\u001b[39m = Field(description = \u001b[33m\"\u001b[39m\u001b[33m날씨를 조회할 도시 이름(영문)\u001b[39m\u001b[33m\"\u001b[39m)\n\u001b[32m      5\u001b[39m result = WeatherInput(city=\u001b[33m'\u001b[39m\u001b[33mSeoul\u001b[39m\u001b[33m'\u001b[39m)\n",
      "\u001b[31mNameError\u001b[39m: name 'BaseModel' is not defined"
     ]
    }
   ],
   "source": [
    "class NewsInput(BaseModel):\n",
    "    keyword: str = Field(description=\"뉴스를 조회할 키워드\")\n",
    "    \n",
    "def get_news(keyword:str) -> str:\n",
    "    import requests\n",
    "    api_key = os.getenv(\"NEWSAPI_API_KEY\")\n",
    "    url = \"https://newsapi.org/v2/everything\"\n",
    "    params = {\n",
    "        \"q\": keyword,\n",
    "        \"apiKey\": api_key,\n",
    "        \"language\": \"ko\",\n",
    "        \"sortBy\": \"publishedAt\",  #최신뉴스\n",
    "        \"pageSize\": 1  # 최근 1건\n",
    "    }\n",
    "    response = requests.get(url, params=params)\n",
    "    data = response.json()    \n",
    "    articles = data.get('articles')\n",
    "    if not articles:\n",
    "        return \"해당 키워드에 대한 뉴스가 없습니다.\"\n",
    "    \n",
    "    # 가장 첫번째 뉴스선택\n",
    "    top_news = articles[0]\n",
    "    title = top_news.get('title', '제목 없음')\n",
    "    source = top_news.get('source', {}).get('name', '출처 없음')\n",
    "    return f'{keyword}에 대한 최신 뉴스: \"{title}\" (출처: {source})'"
   ]
  },
  {
   "cell_type": "code",
   "execution_count": null,
   "id": "e63410f9",
   "metadata": {},
   "outputs": [],
   "source": [
    "print(get_news('취업'))"
   ]
  },
  {
   "cell_type": "markdown",
   "id": "24060c57",
   "metadata": {},
   "source": [
    "LangChain Tool 객체로 전환\n",
    "```\n",
    "get_weather, get_news 함수를 Tool로 등록\n",
    "```"
   ]
  },
  {
   "cell_type": "code",
   "execution_count": null,
   "id": "f57cbdf1",
   "metadata": {},
   "outputs": [],
   "source": [
    "from langchain_core.runnables import RunnableLambda\n",
    "# 날씨함수 runnable -> tool 변환\n",
    "weather_runnable = RunnableLambda(lambda x: get_weather(x['city']))\n",
    "weather_tool = weather_runnable.as_tool(\n",
    "    name=\"get_weather\",\n",
    "    description=\"도시의 현재 날씨 정보를 반환합니다.\",\n",
    "    args_schema=WeatherInput\n",
    ")  \n",
    "# 뉴스함수 runnable -> tool 변환\n",
    "news_runnable = RunnableLambda(lambda x: get_news(x['keyword']))\n",
    "news_tool = news_runnable.as_tool(\n",
    "    name=\"get_news\",\n",
    "    description=\"키워드에 대한 최신 뉴스 정보를 반환합니다.\",\n",
    "    args_schema=NewsInput\n",
    ")\n",
    "print(f'tool 이름:{weather_tool.name} 설명 : {weather_tool.description}')\n",
    "print(f'tool 이름:{news_tool.name} 설명 : {news_tool.description}')"
   ]
  },
  {
   "cell_type": "code",
   "execution_count": null,
   "id": "b613aa17",
   "metadata": {},
   "outputs": [],
   "source": [
    "# 툴없이 \n",
    "from langchain_openai import ChatOpenAI\n",
    "# 프롬프트 템플릿\n",
    "from langchain_core.prompts import ChatPromptTemplate\n",
    "# 출력 파서\n",
    "from langchain_core.output_parsers import StrOutputParser\n",
    "user_question = '서울 날씨 알려줘'\n",
    "# 사용자 질문을 처리하는 프롬프트 템플릿\n",
    "user_prompt = ChatPromptTemplate.from_messages([\n",
    "    (\"system\", \"당신은 날씨와 뉴스 정보를 제공하는 AI입니다.\"),\n",
    "    (\"human\", \"{question}\")\n",
    "])\n",
    "llm = ChatOpenAI(model=\"gpt-4o-mini\", temperature=0.0)\n",
    "chain = user_prompt | llm | StrOutputParser()\n",
    "# 사용자 질문을 처리하는 체인 실행\n",
    "result = chain.invoke({\"question\": user_question})\n",
    "print(result)"
   ]
  },
  {
   "cell_type": "markdown",
   "id": "89e60714",
   "metadata": {},
   "source": [
    "LLM 최종 답변 생성 요청"
   ]
  },
  {
   "cell_type": "code",
   "execution_count": null,
   "id": "33e07ead",
   "metadata": {},
   "outputs": [],
   "source": [
    "from langchain.schema import AIMessage, HumanMessage, SystemMessage\n",
    "# 프롬프트구성 : 시스템메시지 + 사용자 질문 + 결과를 맥락으로 제공\n",
    "weather_info = get_weather('seoul')\n",
    "system_prompt = \"당신은 유용한 AI 어시스턴트입니다. 사용자 질문에 맞게 제공된 정보를 활용해 답변하세요\"\n",
    "tool_info_prompt = f'도구가 제공한 추가 정보:{weather_info}'\n",
    "ask_prompt = '위 정보를 참고해서 사용자 질문에 답변하세요'\n",
    "messages = [\n",
    "    SystemMessage(content=system_prompt),\n",
    "    HumanMessage(content=user_question),\n",
    "    AIMessage(content=tool_info_prompt),  #도구 결과를 마치 ai의 답변처럼 추가가\n",
    "    HumanMessage(content=ask_prompt)\n",
    "]\n",
    "result = llm(messages)   # LLM에 메시지 전달\n",
    "print(result.content)"
   ]
  },
  {
   "cell_type": "markdown",
   "id": "ba4a8b92",
   "metadata": {},
   "source": [
    "여러 tool로 연결시켜서"
   ]
  },
  {
   "cell_type": "code",
   "execution_count": null,
   "id": "18626698",
   "metadata": {},
   "outputs": [],
   "source": [
    "# 에이전트를 생성하고 등록\n",
    "from langchain.agents import initialize_agent, AgentType\n",
    "# 앞에서 만든 tool 객체 리스트를 준비\n",
    "tools = [weather_tool, news_tool]\n",
    "# openai 함수 기반 에이전트 생성\n",
    "agent = initialize_agent(\n",
    "    tools = tools,\n",
    "    llm = llm,\n",
    "    agent_type = AgentType.OPENAI_FUNCTIONS,\n",
    "    verbose = True # 에이전트의 동작을 출력하도록 설정\n",
    ")"
   ]
  },
  {
   "cell_type": "code",
   "execution_count": null,
   "id": "81658da8",
   "metadata": {},
   "outputs": [],
   "source": []
  },
  {
   "cell_type": "markdown",
   "id": "2d84713e",
   "metadata": {},
   "source": []
  }
 ],
 "metadata": {
  "kernelspec": {
   "display_name": "llm.venv",
   "language": "python",
   "name": "python3"
  },
  "language_info": {
   "codemirror_mode": {
    "name": "ipython",
    "version": 3
   },
   "file_extension": ".py",
   "mimetype": "text/x-python",
   "name": "python",
   "nbconvert_exporter": "python",
   "pygments_lexer": "ipython3",
   "version": "3.13.1"
  }
 },
 "nbformat": 4,
 "nbformat_minor": 5
}
