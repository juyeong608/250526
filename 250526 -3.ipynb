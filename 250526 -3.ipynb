{
 "cells": [
  {
   "cell_type": "markdown",
   "id": "efab331d",
   "metadata": {},
   "source": [
    "LLM 프롬프트를 동적으로 구성하고 재사용할 수 있도록 해주는 도구\n",
    "    단일입력 : 하나의 변수로 구성된 프롬프트 템플릿\n",
    "    다중입력 : 둘 이상의 변수를 사용하는 템플릿\n",
    "    ChatPromptTemplate 역할 기반 프롬프트 : 시스템/사용자 역할별로 프롬프트 구성 .from_message\n",
    "    PartialPromptTemplate 활용 : 프롬프트 일부를 미리 고정하고 부분 포맷팅 사용(ex 시스템 메시지는 고정..)\n",
    "    프롬프트 출력 및 체인 실행 : LCEL\n",
    "    프롬프트 작성 팁 : 주의사항 및 모범사례"
   ]
  },
  {
   "cell_type": "code",
   "execution_count": 1,
   "id": "43a36d70",
   "metadata": {},
   "outputs": [
    {
     "name": "stdout",
     "output_type": "stream",
     "text": [
      "당신은 최고 수준의 마케팅 카피라이터 입니다.\n",
      "아래 제품의 매력적인 홍보문구를 100자 내외로 작성해주세요. \n",
      "\n",
      "제품명 : 이클립스\n"
     ]
    }
   ],
   "source": [
    " # 단일 프롬프트 사용\n",
    "from langchain.prompts import PromptTemplate\n",
    "# 템플릿 문자열 정의\n",
    "template_str = (\n",
    "    \"당신은 최고 수준의 마케팅 카피라이터 입니다.\\n\"\n",
    "    \"아래 제품의 매력적인 홍보문구를 100자 내외로 작성해주세요. \\n\\n\"\n",
    "    \"제품명 : {product_name}\"\n",
    ")\n",
    "# PromptTemplate 객체 생성\n",
    "product_prompt = PromptTemplate.from_template(template_str)\n",
    "# 템플릿에 값 채우기\n",
    "formatted_prompt = product_prompt.format(product_name=\"이클립스\")\n",
    "print(formatted_prompt)"
   ]
  },
  {
   "cell_type": "code",
   "execution_count": 2,
   "id": "02b7a18f",
   "metadata": {},
   "outputs": [
    {
     "name": "stdout",
     "output_type": "stream",
     "text": [
      "\"매운 맛의 정수, 신라면! 깊고 진한 육수와 쫄깃한 면발이 어우러져, 한 입에 전해지는 한국의 맛. 지금 바로 신라면으로 뜨거운 감동을 느껴보세요!\"\n"
     ]
    }
   ],
   "source": [
    " # 프롬프트 | llm -> invoke \n",
    "from langchain_openai import ChatOpenAI\n",
    "\n",
    "llm = ChatOpenAI(model='gpt-4o-mini', temperature=0) #홍보문구니까 temperature은 0\n",
    "# Runnable 객체 생성 LCEL\n",
    "chain = product_prompt | llm\n",
    "result = chain.invoke({\"product_name\": \"신라면\"})\n",
    "print(result.content)"
   ]
  },
  {
   "cell_type": "code",
   "execution_count": 3,
   "id": "71562612",
   "metadata": {},
   "outputs": [
    {
     "name": "stdout",
     "output_type": "stream",
     "text": [
      "미래는 뉴스 기사 제목과 키워드 입니다.\n",
      "이 정보를 바탕으로 한 문단으로 구성된 간략한 요약문을 작성하세요.\n",
      "\n",
      "제목 : 인공지능 기술의 발전과 미래키워드 : 머신러닝, 딥러닝, LLM, 랭체인, 산업 혁신\n"
     ]
    }
   ],
   "source": [
    "# 다중 입력\n",
    "# 다중 입력 템플릿 문자열 정의\n",
    "multi_template_str = (\n",
    "    '미래는 뉴스 기사 제목과 키워드 입니다.\\n'\n",
    "    '이 정보를 바탕으로 한 문단으로 구성된 간략한 요약문을 작성하세요.\\n\\n'\n",
    "    '제목 : {title}'\n",
    "    '키워드 : {keyword}'\n",
    "    )\n",
    "# 프롬프트 템플릿 작성\n",
    "summary_prompt = PromptTemplate(template=multi_template_str, input_variables=['title','keyword'])\n",
    "# 포멧팅을 통해 프롬프트 값 확인\n",
    "sample_title = '인공지능 기술의 발전과 미래'\n",
    "sample_keyword = '머신러닝, 딥러닝, LLM, 랭체인, 산업 혁신'\n",
    "formatted_summary_prompt = summary_prompt.format(title = sample_title, keyword = sample_keyword)\n",
    "print(formatted_summary_prompt)"
   ]
  },
  {
   "cell_type": "code",
   "execution_count": 5,
   "id": "e4698c1d",
   "metadata": {},
   "outputs": [
    {
     "data": {
      "text/plain": [
       "'인공지능 기술의 발전은 머신러닝과 딥러닝의 혁신을 통해 가속화되고 있으며, 특히 대규모 언어 모델(LLM)과 랭체인 기술이 주목받고 있습니다. 이러한 기술들은 다양한 산업 분야에서 혁신을 이끌어내고 있으며, 기업들은 이를 활용하여 효율성을 높이고 새로운 비즈니스 모델을 창출하고 있습니다. 앞으로 인공지능은 더욱 발전하여 우리의 삶과 산업 구조에 큰 변화를 가져올 것으로 기대됩니다.'"
      ]
     },
     "execution_count": 5,
     "metadata": {},
     "output_type": "execute_result"
    }
   ],
   "source": [
    "# LCEA 출력\n",
    "from langchain_core.output_parsers import StrOutputParser\n",
    "parser = StrOutputParser()\n",
    "result_summary = (summary_prompt | llm | parser).invoke({\n",
    "    'title' : sample_title,\n",
    "    'keyword' : sample_keyword\n",
    "})\n",
    "result_summary"
   ]
  },
  {
   "cell_type": "code",
   "execution_count": 6,
   "id": "1fab5110",
   "metadata": {},
   "outputs": [],
   "source": [
    "# ChatPromptTemplate 역할 기반 프롬프트\n",
    "# 시스템/사용자/어시스턴트 역할 (role)\n",
    "# 시스템 메시지 : 모델의 동작을 지시\n",
    "# 사용자 메시지 : 실제 사용자의 입력\n",
    "# 어시스턴트 메시지 : 이전 모델이 응답한 내용이 있으면 대화맥락유지를 위해 활용함"
   ]
  },
  {
   "cell_type": "code",
   "execution_count": 7,
   "id": "bfc34370",
   "metadata": {},
   "outputs": [
    {
     "name": "stdout",
     "output_type": "stream",
     "text": [
      "[SystemMessage(content='당신은 python분야의 뛰어난 전문가이자 조언자 입니다.사용자의 프로그래밍 질문에 대해 친절하고 이해하기 쉽게 답변해 주세요', additional_kwargs={}, response_metadata={}), HumanMessage(content='파이썬의 클래스에 대해서 설명해주세요', additional_kwargs={}, response_metadata={})]\n",
      "파이썬의 클래스는 객체 지향 프로그래밍(OOP)의 기본 개념 중 하나로, 객체를 생성하기 위한 청print을 제공합니다. 클래스는 속성과 메서드를 포함할 수 있으며, 이를 통해 데이터와 기능을 하나의 단위로 묶을 수 있습니다.\n",
      "\n",
      "### 클래스의 기본 구조\n",
      "\n",
      "클래스를 정의하려면 `class` 키워드를 사용합니다. 다음은 간단한 클래스의 예입니다:\n",
      "\n",
      "```python\n",
      "class Dog:\n",
      "    # 생성자 메서드\n",
      "    def __init__(self, name, age):\n",
      "        self.name = name  # 인스턴스 변수\n",
      "        self.age = age    # 인스턴스 변수\n",
      "\n",
      "    # 메서드\n",
      "    def bark(self):\n",
      "        return f\"{self.name} says woof!\"\n",
      "\n",
      "# 클래스의 인스턴스 생성\n",
      "my_dog = Dog(\"Buddy\", 3)\n",
      "\n",
      "# 메서드 호출\n",
      "print(my_dog.bark())  # 출력: Buddy says woof!\n",
      "```\n",
      "\n",
      "### 주요 개념\n",
      "\n",
      "1. **생성자 (`__init__` 메서드)**:\n",
      "   - 클래스의 인스턴스가 생성될 때 호출되는 특별한 메서드입니다.\n",
      "   - 인스턴스 변수(속성)를 초기화하는 데 사용됩니다.\n",
      "\n",
      "2. **인스턴스 변수**:\n",
      "   - 클래스의 인스턴스에 속하는 변수입니다. `self` 키워드를 통해 접근합니다.\n",
      "\n",
      "3. **메서드**:\n",
      "   - 클래스 내에서 정의된 함수로, 인스턴스의 행동을 정의합니다.\n",
      "   - 메서드는 항상 첫 번째 매개변수로 `self`를 받아야 하며, 이를 통해 인스턴스의 속성에 접근할 수 있습니다.\n",
      "\n",
      "4. **인스턴스**:\n",
      "   - 클래스를 기반으로 생성된 객체입니다. 각 인스턴스는 고유한 속성을 가질 수 있습니다.\n",
      "\n",
      "### 클래스의 상속\n",
      "\n",
      "파이썬에서는 클래스 상속을 통해 기존 클래스를 확장할 수 있습니다. 이를 통해 코드의 재사용성을 높일 수 있습니다.\n",
      "\n",
      "```python\n",
      "class Puppy(Dog):  # Dog 클래스를 상속\n",
      "    def play(self):\n",
      "        return f\"{self.name} is playing!\"\n",
      "\n",
      "my_puppy = Puppy(\"Charlie\", 1)\n",
      "print(my_puppy.bark())  # 출력: Charlie says woof!\n",
      "print(my_puppy.play())  # 출력: Charlie is playing!\n",
      "```\n",
      "\n",
      "### 정리\n",
      "\n",
      "클래스는 객체 지향 프로그래밍의 핵심 요소로, 데이터와 기능을 묶어 관리할 수 있게 해줍니다. 이를 통해 코드의 구조를 더 명확하고 유지보수하기 쉽게 만들 수 있습니다. 클래스와 객체의 개념을 잘 이해하면, 더 복잡한 프로그램을 작성하는 데 큰 도움이 됩니다.\n"
     ]
    }
   ],
   "source": [
    "from langchain.prompts import ChatPromptTemplate\n",
    "system_message = ('당신은 python분야의 뛰어난 전문가이자 조언자 입니다.'\n",
    "                  '사용자의 프로그래밍 질문에 대해 친절하고 이해하기 쉽게 답변해 주세요')\n",
    "user_message = '{question}'\n",
    "chat_prompt = ChatPromptTemplate.from_messages([\n",
    "    ('system',system_message),\n",
    "    ('user',user_message)\n",
    "])\n",
    "# 템플릿을 이용해서 문장을 완성해 보세요\n",
    "sample_question = '파이썬의 클래스에 대해서 설명해주세요'\n",
    "format_message = chat_prompt.format_messages(question = sample_question)\n",
    "print(format_message)\n",
    "# 파이프라인을 이용해서 llm 호출 및 파싱\n",
    "answer = (chat_prompt | llm | parser).invoke({'question' : sample_question})\n",
    "print(answer)\n"
   ]
  },
  {
   "cell_type": "code",
   "execution_count": 8,
   "id": "34080b8a",
   "metadata": {},
   "outputs": [],
   "source": [
    "# ParitalPromptTemplate : 템플릿의 일부를 부분적으로 채운 새로운 템플릿\n",
    "from langchain.prompts import SystemMessagePromptTemplate, HumanMessagePromptTemplate\n",
    "role_system_template = '당신은 {role} 분야의 전문 지식인입니다. 가능한 자세히 답변해 주세요'\n",
    "system_prompt = SystemMessagePromptTemplate.from_template(role_system_template)\n",
    "user_prompt = HumanMessagePromptTemplate.from_template('{question}')\n",
    "\n",
    "# chatprompttemplate 을 생성\n",
    "base_chat_prompt = ChatPromptTemplate.from_messages([system_prompt, user_prompt])\n",
    "\n",
    "partial_chat_prompt = base_chat_prompt.partial(role='주식 투자')"
   ]
  },
  {
   "cell_type": "code",
   "execution_count": 9,
   "id": "8c6fda58",
   "metadata": {},
   "outputs": [
    {
     "name": "stdout",
     "output_type": "stream",
     "text": [
      "[SystemMessage(content='당신은 주식 투자 분야의 전문 지식인입니다. 가능한 자세히 답변해 주세요', additional_kwargs={}, response_metadata={}), HumanMessage(content='현재 2025년 5월 시장 상황에서 삼성전자 주식 전망은', additional_kwargs={}, response_metadata={})]\n"
     ]
    }
   ],
   "source": [
    "# partial로 생성된 프롬프트에 질문만 채워 프롬프트 구성\n",
    "sample_question = '현재 2025년 5월 시장 상황에서 삼성전자 주식 전망은'\n",
    "message = partial_chat_prompt.format_messages(question = sample_question)\n",
    "print(message)"
   ]
  },
  {
   "cell_type": "code",
   "execution_count": 11,
   "id": "f8e409bb",
   "metadata": {},
   "outputs": [
    {
     "name": "stdout",
     "output_type": "stream",
     "text": [
      "2025년 5월의 삼성전자 주식 전망을 평가하기 위해서는 여러 가지 요소를 고려해야 합니다. 다음은 삼성전자의 주식 전망에 영향을 미칠 수 있는 주요 요인들입니다.\n",
      "\n",
      "### 1. **반도체 시장 동향**\n",
      "삼성전자는 세계 최대의 반도체 제조업체 중 하나로, 메모리 반도체(DRAM, NAND 플래시)와 비메모리 반도체(시스템 반도체) 분야에서 중요한 역할을 하고 있습니다. 2025년에는 반도체 수요가 어떻게 변화할지, 특히 AI, IoT, 5G와 같은 기술 발전에 따른 수요 증가가 예상됩니다. 반도체 가격이 안정세를 보이거나 상승세를 보인다면 삼성전자의 실적에 긍정적인 영향을 미칠 것입니다.\n",
      "\n",
      "### 2. **스마트폰 및 전자제품 시장**\n",
      "삼성전자는 스마트폰, 가전제품 등 다양한 전자제품을 제조하고 있습니다. 2025년에는 새로운 기술이 적용된 스마트폰 모델과 가전제품이 출시될 것으로 예상되며, 이러한 제품들이 소비자에게 긍정적인 반응을 얻는다면 매출 증가에 기여할 수 있습니다.\n",
      "\n",
      "### 3. **글로벌 경제 상황**\n",
      "글로벌 경제의 전반적인 상황도 삼성전자의 주가에 큰 영향을 미칠 수 있습니다. 금리 인상, 인플레이션, 지정학적 리스크(예: 미중 무역 갈등) 등은 소비자 신뢰와 기업 투자에 영향을 미칠 수 있습니다. 경제가 안정세를 보인다면 소비자 지출이 증가하고, 이는 삼성전자의 매출 증가로 이어질 수 있습니다.\n",
      "\n",
      "### 4. **경쟁 상황**\n",
      "삼성전자는 애플, 화웨이, TSMC 등과 같은 강력한 경쟁자들과 경쟁하고 있습니다. 경쟁사들의 기술 발전과 시장 점유율 변화도 삼성전자의 주가에 영향을 미칠 수 있습니다. 특히, 반도체 분야에서 TSMC의 기술력 향상은 삼성전자의 시장 점유율에 도전이 될 수 있습니다.\n",
      "\n",
      "### 5. **ESG 및 지속 가능성**\n",
      "최근 기업의 사회적 책임(ESG)과 지속 가능성에 대한 관심이 높아지고 있습니다. 삼성전자가 이러한 분야에서 긍정적인 이미지를 구축하고 지속 가능한 경영을 강화한다면, 투자자들의 신뢰를 얻고 주가에 긍정적인 영향을 미칠 수 있습니다.\n",
      "\n",
      "### 6. **재무 성과**\n",
      "삼성전자의 분기별 실적 발표는 주가에 큰 영향을 미칩니다. 매출, 영업이익, 순이익 등의 지표가 시장의 기대치를 초과할 경우 주가 상승으로 이어질 수 있습니다. 반대로 실적이 부진할 경우 주가 하락의 원인이 될 수 있습니다.\n",
      "\n",
      "### 결론\n",
      "2025년 5월 삼성전자의 주식 전망은 여러 요인에 따라 달라질 수 있으며, 긍정적인 요소와 부정적인 요소가 혼재해 있습니다. 반도체 시장의 회복, 스마트폰 및 전자제품의 판매 증가, 글로벌 경제의 안정 등이 긍정적인 신호로 작용할 수 있지만, 경쟁 심화와 글로벌 경제 불확실성 등은 주의해야 할 요소입니다. 따라서, 투자 결정을 내리기 전에 최신 정보와 시장 동향을 지속적으로 모니터링하는 것이 중요합니다.\n"
     ]
    }
   ],
   "source": [
    "# LCEL - invoke\n",
    "answer = (partial_chat_prompt | llm | parser).invoke({'question' : sample_question})\n",
    "print(answer)"
   ]
  },
  {
   "cell_type": "code",
   "execution_count": null,
   "id": "a2efa727",
   "metadata": {},
   "outputs": [],
   "source": []
  }
 ],
 "metadata": {
  "kernelspec": {
   "display_name": "llm.venv",
   "language": "python",
   "name": "python3"
  },
  "language_info": {
   "codemirror_mode": {
    "name": "ipython",
    "version": 3
   },
   "file_extension": ".py",
   "mimetype": "text/x-python",
   "name": "python",
   "nbconvert_exporter": "python",
   "pygments_lexer": "ipython3",
   "version": "3.13.1"
  }
 },
 "nbformat": 4,
 "nbformat_minor": 5
}
