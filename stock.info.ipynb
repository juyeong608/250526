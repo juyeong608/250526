{
 "cells": [
  {
   "cell_type": "code",
   "execution_count": 1,
   "id": "2b2a08f9",
   "metadata": {},
   "outputs": [
    {
     "name": "stdout",
     "output_type": "stream",
     "text": [
      "Requirement already satisfied: yfinance in c:\\users\\playdata\\miniconda3\\envs\\llm.venv\\lib\\site-packages (0.2.61)\n",
      "Requirement already satisfied: pandas>=1.3.0 in c:\\users\\playdata\\miniconda3\\envs\\llm.venv\\lib\\site-packages (from yfinance) (2.2.3)\n",
      "Requirement already satisfied: numpy>=1.16.5 in c:\\users\\playdata\\miniconda3\\envs\\llm.venv\\lib\\site-packages (from yfinance) (2.2.6)\n",
      "Requirement already satisfied: requests>=2.31 in c:\\users\\playdata\\miniconda3\\envs\\llm.venv\\lib\\site-packages (from yfinance) (2.32.3)\n",
      "Requirement already satisfied: multitasking>=0.0.7 in c:\\users\\playdata\\miniconda3\\envs\\llm.venv\\lib\\site-packages (from yfinance) (0.0.11)\n",
      "Requirement already satisfied: platformdirs>=2.0.0 in c:\\users\\playdata\\miniconda3\\envs\\llm.venv\\lib\\site-packages (from yfinance) (4.3.8)\n",
      "Requirement already satisfied: pytz>=2022.5 in c:\\users\\playdata\\miniconda3\\envs\\llm.venv\\lib\\site-packages (from yfinance) (2025.2)\n",
      "Requirement already satisfied: frozendict>=2.3.4 in c:\\users\\playdata\\miniconda3\\envs\\llm.venv\\lib\\site-packages (from yfinance) (2.4.6)\n",
      "Requirement already satisfied: peewee>=3.16.2 in c:\\users\\playdata\\miniconda3\\envs\\llm.venv\\lib\\site-packages (from yfinance) (3.18.1)\n",
      "Requirement already satisfied: beautifulsoup4>=4.11.1 in c:\\users\\playdata\\miniconda3\\envs\\llm.venv\\lib\\site-packages (from yfinance) (4.13.4)\n",
      "Requirement already satisfied: curl_cffi>=0.7 in c:\\users\\playdata\\miniconda3\\envs\\llm.venv\\lib\\site-packages (from yfinance) (0.11.1)\n",
      "Requirement already satisfied: protobuf>=3.19.0 in c:\\users\\playdata\\miniconda3\\envs\\llm.venv\\lib\\site-packages (from yfinance) (6.31.0)\n",
      "Requirement already satisfied: websockets>=13.0 in c:\\users\\playdata\\miniconda3\\envs\\llm.venv\\lib\\site-packages (from yfinance) (15.0.1)\n",
      "Requirement already satisfied: soupsieve>1.2 in c:\\users\\playdata\\miniconda3\\envs\\llm.venv\\lib\\site-packages (from beautifulsoup4>=4.11.1->yfinance) (2.7)\n",
      "Requirement already satisfied: typing-extensions>=4.0.0 in c:\\users\\playdata\\miniconda3\\envs\\llm.venv\\lib\\site-packages (from beautifulsoup4>=4.11.1->yfinance) (4.12.2)\n",
      "Requirement already satisfied: cffi>=1.12.0 in c:\\users\\playdata\\miniconda3\\envs\\llm.venv\\lib\\site-packages (from curl_cffi>=0.7->yfinance) (1.17.1)\n",
      "Requirement already satisfied: certifi>=2024.2.2 in c:\\users\\playdata\\miniconda3\\envs\\llm.venv\\lib\\site-packages (from curl_cffi>=0.7->yfinance) (2025.4.26)\n",
      "Requirement already satisfied: pycparser in c:\\users\\playdata\\miniconda3\\envs\\llm.venv\\lib\\site-packages (from cffi>=1.12.0->curl_cffi>=0.7->yfinance) (2.22)\n",
      "Requirement already satisfied: python-dateutil>=2.8.2 in c:\\users\\playdata\\miniconda3\\envs\\llm.venv\\lib\\site-packages (from pandas>=1.3.0->yfinance) (2.9.0.post0)\n",
      "Requirement already satisfied: tzdata>=2022.7 in c:\\users\\playdata\\miniconda3\\envs\\llm.venv\\lib\\site-packages (from pandas>=1.3.0->yfinance) (2025.2)\n",
      "Requirement already satisfied: six>=1.5 in c:\\users\\playdata\\miniconda3\\envs\\llm.venv\\lib\\site-packages (from python-dateutil>=2.8.2->pandas>=1.3.0->yfinance) (1.17.0)\n",
      "Requirement already satisfied: charset-normalizer<4,>=2 in c:\\users\\playdata\\miniconda3\\envs\\llm.venv\\lib\\site-packages (from requests>=2.31->yfinance) (3.4.2)\n",
      "Requirement already satisfied: idna<4,>=2.5 in c:\\users\\playdata\\miniconda3\\envs\\llm.venv\\lib\\site-packages (from requests>=2.31->yfinance) (3.7)\n",
      "Requirement already satisfied: urllib3<3,>=1.21.1 in c:\\users\\playdata\\miniconda3\\envs\\llm.venv\\lib\\site-packages (from requests>=2.31->yfinance) (2.4.0)\n",
      "Note: you may need to restart the kernel to use updated packages.\n"
     ]
    }
   ],
   "source": [
    "%pip install yfinance"
   ]
  },
  {
   "cell_type": "code",
   "execution_count": 2,
   "id": "afe394bb",
   "metadata": {},
   "outputs": [
    {
     "name": "stdout",
     "output_type": "stream",
     "text": [
      "Collecting tabulate\n",
      "  Downloading tabulate-0.9.0-py3-none-any.whl.metadata (34 kB)\n",
      "Downloading tabulate-0.9.0-py3-none-any.whl (35 kB)\n",
      "Installing collected packages: tabulate\n",
      "Successfully installed tabulate-0.9.0\n",
      "Note: you may need to restart the kernel to use updated packages.\n"
     ]
    }
   ],
   "source": [
    "%pip install tabulate\n"
   ]
  },
  {
   "cell_type": "code",
   "execution_count": 3,
   "id": "7797a774",
   "metadata": {},
   "outputs": [
    {
     "name": "stdout",
     "output_type": "stream",
     "text": [
      "\n",
      "### Basic Information\n",
      "|                   | Values             |\n",
      "|:------------------|:-------------------|\n",
      "| longName          | NVIDIA Corporation |\n",
      "| industry          | Semiconductors     |\n",
      "| sector            | Technology         |\n",
      "| marketCap         | 3304519892992      |\n",
      "| sharesOutstanding | 24387600384        |\n",
      "\n",
      "### Financial Statements\n",
      "\n",
      "        ### Quarterly Income Statement\n",
      "        |                  |   2025-01-31 00:00:00 |   2024-10-31 00:00:00 |   2024-07-31 00:00:00 |   2024-04-30 00:00:00 |   2024-01-31 00:00:00 |   2023-10-31 00:00:00 |\n",
      "|:-----------------|----------------------:|----------------------:|----------------------:|----------------------:|----------------------:|----------------------:|\n",
      "| Total Revenue    |            3.9331e+10 |            3.5082e+10 |            3.004e+10  |            2.6044e+10 |            2.2103e+10 |                   nan |\n",
      "| Gross Profit     |            2.8723e+10 |            2.6156e+10 |            2.2574e+10 |            2.0406e+10 |            1.6791e+10 |                   nan |\n",
      "| Operating Income |            2.4034e+10 |            2.1869e+10 |            1.8642e+10 |            1.6909e+10 |            1.3614e+10 |                   nan |\n",
      "| Net Income       |            2.2091e+10 |            1.9309e+10 |            1.6599e+10 |            1.4881e+10 |            1.2285e+10 |                   nan |\n",
      "\n",
      "        ### Quarterly Balance Sheet\n",
      "        |                                         |   2025-01-31 00:00:00 |   2024-10-31 00:00:00 |   2024-07-31 00:00:00 |   2024-04-30 00:00:00 |   2024-01-31 00:00:00 |   2023-10-31 00:00:00 |\n",
      "|:----------------------------------------|----------------------:|----------------------:|----------------------:|----------------------:|----------------------:|----------------------:|\n",
      "| Total Assets                            |           1.11601e+11 |            9.6013e+10 |            8.5227e+10 |            7.7072e+10 |            6.5728e+10 |                   nan |\n",
      "| Total Liabilities Net Minority Interest |           3.2274e+10  |            3.0114e+10 |            2.707e+10  |            2.793e+10  |            2.275e+10  |                   nan |\n",
      "| Stockholders Equity                     |           7.9327e+10  |            6.5899e+10 |            5.8157e+10 |            4.9142e+10 |            4.2978e+10 |                   nan |\n",
      "\n",
      "        ### Quarterly Cash Flow\n",
      "        |                     |   2025-01-31 00:00:00 |   2024-10-31 00:00:00 |   2024-07-31 00:00:00 |   2024-04-30 00:00:00 |   2024-01-31 00:00:00 |   2023-10-31 00:00:00 |\n",
      "|:--------------------|----------------------:|----------------------:|----------------------:|----------------------:|----------------------:|----------------------:|\n",
      "| Operating Cash Flow |            1.6629e+10 |            1.7627e+10 |            1.4488e+10 |            1.5345e+10 |            1.1499e+10 |                   nan |\n",
      "| Investing Cash Flow |           -7.198e+09  |           -4.346e+09  |           -3.184e+09  |           -5.693e+09  |           -6.109e+09  |                   nan |\n",
      "| Financing Cash Flow |           -9.949e+09  |           -1.2745e+10 |           -1.032e+10  |           -9.345e+09  |           -3.629e+09  |                   nan |\n",
      "        \n"
     ]
    }
   ],
   "source": [
    "import yfinance as yf\n",
    "import pandas as pd\n",
    "\n",
    "class Stock:\n",
    "    def __init__(self, symbol):\n",
    "        self.symbol = symbol\n",
    "        self.ticker = yf.Ticker(symbol)\n",
    "\n",
    "    def get_basic_info(self):\n",
    "        basic_info = pd.DataFrame.from_dict(self.ticker.info, orient=\"index\", columns=[\"Values\"])\n",
    "        return basic_info.loc[['longName', 'industry', 'sector', 'marketCap', 'sharesOutstanding']].to_markdown()\n",
    "    \n",
    "    def get_financial_statement(self):\n",
    "        return f\"\"\"\n",
    "        ### Quarterly Income Statement\n",
    "        {self.ticker.quarterly_income_stmt.loc[['Total Revenue', 'Gross Profit', 'Operating Income', 'Net Income']].to_markdown()}\n",
    "\n",
    "        ### Quarterly Balance Sheet\n",
    "        {self.ticker.quarterly_balance_sheet.loc[['Total Assets', 'Total Liabilities Net Minority Interest', 'Stockholders Equity']].to_markdown()}\n",
    "\n",
    "        ### Quarterly Cash Flow\n",
    "        {self.ticker.quarterly_cash_flow.loc[['Operating Cash Flow', 'Investing Cash Flow', 'Financing Cash Flow']].to_markdown()}\n",
    "        \"\"\"\n",
    "def main():\n",
    "    if __name__ == \"__main__\":        \n",
    "        stock = Stock('nvda')\n",
    "        \n",
    "        print(\"\\n### Basic Information\")\n",
    "        print(stock.get_basic_info())\n",
    "        \n",
    "        print(\"\\n### Financial Statements\")\n",
    "        print(stock.get_financial_statement())    \n",
    "main() \n",
    "\n",
    "            \n"
   ]
  },
  {
   "cell_type": "code",
   "execution_count": null,
   "id": "03de1538",
   "metadata": {},
   "outputs": [],
   "source": [
    "import os\n",
    "client = meilisearch.Client(url=os.getenv('MEILI_SEARCH_URL'),\n",
    "                            api_key = os.getenv('MEILI_SEARCH_KEY'))\n",
    "client.index('nasdaq').add_documents(result_d, )\n",
    "\n",
    "client.index('nasdaq').add_documents(result_d, primary_key='Symbol')"
   ]
  },
  {
   "cell_type": "code",
   "execution_count": null,
   "id": "0ba5337d",
   "metadata": {},
   "outputs": [],
   "source": [
    "import pandas as pd\n",
    "df = pd.read_csv('nasdaq_screener.csv', na_filter=False)\n",
    "#전처리\n",
    "df['id'] = df['Symbol'].str.strip().replace(r'\\^','_', regex=True)"
   ]
  },
  {
   "cell_type": "code",
   "execution_count": null,
   "id": "1a6e2613",
   "metadata": {},
   "outputs": [],
   "source": [
    "pip list --format  freeze > requirements.txt"
   ]
  }
 ],
 "metadata": {
  "kernelspec": {
   "display_name": "llm.venv",
   "language": "python",
   "name": "python3"
  },
  "language_info": {
   "codemirror_mode": {
    "name": "ipython",
    "version": 3
   },
   "file_extension": ".py",
   "mimetype": "text/x-python",
   "name": "python",
   "nbconvert_exporter": "python",
   "pygments_lexer": "ipython3",
   "version": "3.13.1"
  }
 },
 "nbformat": 4,
 "nbformat_minor": 5
}
